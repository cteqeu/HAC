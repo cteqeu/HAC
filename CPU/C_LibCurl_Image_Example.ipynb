{
  "nbformat": 4,
  "nbformat_minor": 0,
  "metadata": {
    "colab": {
      "provenance": [],
      "collapsed_sections": []
    },
    "kernelspec": {
      "name": "python3",
      "display_name": "Python 3"
    },
    "language_info": {
      "name": "python"
    },
    "accelerator": "GPU"
  },
  "cells": [
    {
      "cell_type": "code",
      "source": [
        "%lsmagic"
      ],
      "metadata": {
        "colab": {
          "base_uri": "https://localhost:8080/",
          "height": 295
        },
        "id": "CCnBh9RKq8t2",
        "outputId": "0fc94ef6-fe11-453f-ac05-8f1d1d32146a"
      },
      "execution_count": 1,
      "outputs": [
        {
          "output_type": "execute_result",
          "data": {
            "text/plain": [
              "Available line magics:\n",
              "%alias  %alias_magic  %autoawait  %autocall  %automagic  %autosave  %bookmark  %cat  %cd  %clear  %colors  %conda  %config  %connect_info  %cp  %debug  %dhist  %dirs  %doctest_mode  %ed  %edit  %env  %gui  %hist  %history  %killbgscripts  %ldir  %less  %lf  %lk  %ll  %load  %load_ext  %loadpy  %logoff  %logon  %logstart  %logstate  %logstop  %ls  %lsmagic  %lx  %macro  %magic  %man  %matplotlib  %mkdir  %more  %mv  %notebook  %page  %pastebin  %pdb  %pdef  %pdoc  %pfile  %pinfo  %pinfo2  %pip  %popd  %pprint  %precision  %prun  %psearch  %psource  %pushd  %pwd  %pycat  %pylab  %qtconsole  %quickref  %recall  %rehashx  %reload_ext  %rep  %rerun  %reset  %reset_selective  %rm  %rmdir  %run  %save  %sc  %set_env  %shell  %store  %sx  %system  %tb  %tensorflow_version  %time  %timeit  %unalias  %unload_ext  %who  %who_ls  %whos  %xdel  %xmode\n",
              "\n",
              "Available cell magics:\n",
              "%%!  %%HTML  %%SVG  %%bash  %%bigquery  %%capture  %%debug  %%file  %%html  %%javascript  %%js  %%latex  %%markdown  %%perl  %%prun  %%pypy  %%python  %%python2  %%python3  %%ruby  %%script  %%sh  %%shell  %%svg  %%sx  %%system  %%time  %%timeit  %%writefile\n",
              "\n",
              "Automagic is ON, % prefix IS NOT needed for line magics."
            ],
            "application/json": {
              "line": {
                "automagic": "AutoMagics",
                "autocall": "AutoMagics",
                "alias_magic": "BasicMagics",
                "lsmagic": "BasicMagics",
                "magic": "BasicMagics",
                "page": "BasicMagics",
                "pprint": "BasicMagics",
                "colors": "BasicMagics",
                "xmode": "BasicMagics",
                "quickref": "BasicMagics",
                "doctest_mode": "BasicMagics",
                "gui": "BasicMagics",
                "precision": "BasicMagics",
                "notebook": "BasicMagics",
                "save": "CodeMagics",
                "pastebin": "CodeMagics",
                "loadpy": "CodeMagics",
                "load": "CodeMagics",
                "edit": "KernelMagics",
                "config": "ConfigMagics",
                "prun": "ExecutionMagics",
                "pdb": "ExecutionMagics",
                "debug": "ExecutionMagics",
                "tb": "ExecutionMagics",
                "run": "ExecutionMagics",
                "timeit": "ExecutionMagics",
                "time": "ExecutionMagics",
                "macro": "ExecutionMagics",
                "load_ext": "ExtensionMagics",
                "unload_ext": "ExtensionMagics",
                "reload_ext": "ExtensionMagics",
                "history": "HistoryMagics",
                "recall": "HistoryMagics",
                "rerun": "HistoryMagics",
                "logstart": "LoggingMagics",
                "logstop": "LoggingMagics",
                "logoff": "LoggingMagics",
                "logon": "LoggingMagics",
                "logstate": "LoggingMagics",
                "pinfo": "NamespaceMagics",
                "pinfo2": "NamespaceMagics",
                "pdef": "NamespaceMagics",
                "pdoc": "NamespaceMagics",
                "psource": "NamespaceMagics",
                "pfile": "NamespaceMagics",
                "psearch": "NamespaceMagics",
                "who_ls": "NamespaceMagics",
                "who": "NamespaceMagics",
                "whos": "NamespaceMagics",
                "reset": "NamespaceMagics",
                "reset_selective": "NamespaceMagics",
                "xdel": "NamespaceMagics",
                "alias": "OSMagics",
                "unalias": "OSMagics",
                "rehashx": "OSMagics",
                "pwd": "OSMagics",
                "cd": "OSMagics",
                "env": "OSMagics",
                "set_env": "OSMagics",
                "pushd": "OSMagics",
                "popd": "OSMagics",
                "dirs": "OSMagics",
                "dhist": "OSMagics",
                "sc": "OSMagics",
                "sx": "OSMagics",
                "system": "OSMagics",
                "bookmark": "OSMagics",
                "pycat": "OSMagics",
                "pip": "Other",
                "conda": "PackagingMagics",
                "matplotlib": "PylabMagics",
                "pylab": "PylabMagics",
                "killbgscripts": "ScriptMagics",
                "autoawait": "AsyncMagics",
                "ed": "Other",
                "hist": "Other",
                "rep": "Other",
                "clear": "KernelMagics",
                "less": "KernelMagics",
                "more": "KernelMagics",
                "man": "KernelMagics",
                "connect_info": "KernelMagics",
                "qtconsole": "KernelMagics",
                "autosave": "KernelMagics",
                "mkdir": "Other",
                "rmdir": "Other",
                "mv": "Other",
                "rm": "Other",
                "cp": "Other",
                "cat": "Other",
                "ls": "Other",
                "ll": "Other",
                "lf": "Other",
                "lk": "Other",
                "ldir": "Other",
                "lx": "Other",
                "store": "StoreMagics",
                "shell": "Other",
                "tensorflow_version": "Other"
              },
              "cell": {
                "js": "DisplayMagics",
                "javascript": "DisplayMagics",
                "latex": "DisplayMagics",
                "svg": "DisplayMagics",
                "html": "DisplayMagics",
                "markdown": "DisplayMagics",
                "prun": "ExecutionMagics",
                "debug": "ExecutionMagics",
                "timeit": "ExecutionMagics",
                "time": "ExecutionMagics",
                "capture": "ExecutionMagics",
                "sx": "OSMagics",
                "system": "OSMagics",
                "!": "OSMagics",
                "writefile": "OSMagics",
                "script": "ScriptMagics",
                "sh": "Other",
                "bash": "Other",
                "perl": "Other",
                "ruby": "Other",
                "python": "Other",
                "python2": "Other",
                "python3": "Other",
                "pypy": "Other",
                "SVG": "Other",
                "HTML": "Other",
                "file": "Other",
                "bigquery": "Other",
                "shell": "Other"
              }
            }
          },
          "metadata": {},
          "execution_count": 1
        }
      ]
    },
    {
      "cell_type": "code",
      "source": [
        "!git clone https://github.com/nothings/stb.git\n",
        "!ls\n",
        "!mkdir TestCurl\n",
        "!mv /content/stb/stb_image*.* /content/TestCurl"
      ],
      "metadata": {
        "colab": {
          "base_uri": "https://localhost:8080/"
        },
        "id": "IvRGUSHNFMxR",
        "outputId": "e8aa5aca-8ace-467b-c334-8cd89b9ecd14"
      },
      "execution_count": 2,
      "outputs": [
        {
          "output_type": "stream",
          "name": "stdout",
          "text": [
            "Cloning into 'stb'...\n",
            "remote: Enumerating objects: 7851, done.\u001b[K\n",
            "remote: Counting objects: 100% (580/580), done.\u001b[K\n",
            "remote: Compressing objects: 100% (215/215), done.\u001b[K\n",
            "remote: Total 7851 (delta 376), reused 547 (delta 365), pack-reused 7271\u001b[K\n",
            "Receiving objects: 100% (7851/7851), 5.45 MiB | 19.53 MiB/s, done.\n",
            "Resolving deltas: 100% (5221/5221), done.\n",
            "sample_data  stb\n"
          ]
        }
      ]
    },
    {
      "cell_type": "code",
      "source": [
        "!ls"
      ],
      "metadata": {
        "colab": {
          "base_uri": "https://localhost:8080/"
        },
        "id": "wnYFAE23FgHm",
        "outputId": "f32df8b7-50d7-4872-a67c-ba622d48dc9b"
      },
      "execution_count": 3,
      "outputs": [
        {
          "output_type": "stream",
          "name": "stdout",
          "text": [
            "sample_data  stb  TestCurl\n"
          ]
        }
      ]
    },
    {
      "cell_type": "code",
      "source": [
        "%%writefile TestCurl/TestCurl.c\n",
        "\n",
        "#include <stdio.h>\n",
        "#include <stdlib.h>\n",
        "#include <string.h>\n",
        "#include <curl/curl.h>\n",
        "\n",
        "struct MemoryStruct {\n",
        "  char *memory;\n",
        "  size_t size;\n",
        "};\n",
        "\n",
        "size_t WriteMemoryCallback(void *contents, size_t size, size_t nmemb, void *userp);\n",
        "\n",
        "int main(int argc, char *argv[]) {\n",
        "  if( argc != 2 ) {\n",
        "    printf(\"usage: try './curl [url]' to make a get request.\\n\");\n",
        "    return 1;\n",
        "  }\n",
        "\n",
        "  CURL *curl_handle;\n",
        "  CURLcode res;\n",
        "\n",
        "  struct MemoryStruct chunk;\n",
        "  chunk.memory = malloc(1);  \n",
        "  chunk.size = 0;\n",
        "\n",
        "  curl_handle = curl_easy_init();\n",
        "  if(curl_handle) {\n",
        "    curl_easy_setopt(curl_handle, CURLOPT_URL, argv[1]);\n",
        "    curl_easy_setopt(curl_handle, CURLOPT_FOLLOWLOCATION, 1L);\n",
        "    curl_easy_setopt(curl_handle, CURLOPT_WRITEFUNCTION, WriteMemoryCallback);\n",
        "    curl_easy_setopt(curl_handle, CURLOPT_WRITEDATA, (void *)&chunk);\n",
        "    curl_easy_setopt(curl_handle, CURLOPT_USERAGENT, \"libcurl-agent/1.0\");\n",
        "\n",
        "    res = curl_easy_perform(curl_handle);\n",
        "\n",
        "    if(res != CURLE_OK) {\n",
        "      fprintf(stderr, \"error: %s\\n\", curl_easy_strerror(res));\n",
        "    } else {\n",
        "      printf(\"Size: %lu\\n\", (unsigned long)chunk.size);\n",
        "      printf(\"Data: %s\\n\", chunk.memory);\n",
        "    }\n",
        "    curl_easy_cleanup(curl_handle);\n",
        "    free(chunk.memory);\n",
        "  }\n",
        "  return 0;\n",
        "}\n",
        "\n",
        "size_t WriteMemoryCallback(void *contents, size_t size, size_t nmemb, void *userp) {\n",
        "  size_t realsize = size * nmemb;\n",
        "  struct MemoryStruct *mem = (struct MemoryStruct *)userp;\n",
        "\n",
        "  char *ptr = realloc(mem->memory, mem->size + realsize + 1);\n",
        "  if(ptr == NULL) {\n",
        "    printf(\"error: not enough memory\\n\");\n",
        "    return 0;\n",
        "  }\n",
        "\n",
        "  mem->memory = ptr;\n",
        "  memcpy(&(mem->memory[mem->size]), contents, realsize);\n",
        "  mem->size += realsize;\n",
        "  mem->memory[mem->size] = 0;\n",
        "\n",
        "  return realsize;\n",
        "}"
      ],
      "metadata": {
        "colab": {
          "base_uri": "https://localhost:8080/"
        },
        "id": "BbugNIzWrNx_",
        "outputId": "cbc18ca6-74ab-4657-c195-4b03906075c9"
      },
      "execution_count": 4,
      "outputs": [
        {
          "output_type": "stream",
          "name": "stdout",
          "text": [
            "Writing TestCurl/TestCurl.c\n"
          ]
        }
      ]
    },
    {
      "cell_type": "code",
      "source": [
        "!ls -l"
      ],
      "metadata": {
        "colab": {
          "base_uri": "https://localhost:8080/"
        },
        "id": "6vJV8AhtrWq8",
        "outputId": "f92979c4-a4c8-43b8-cc8a-bfa9076fd405"
      },
      "execution_count": 5,
      "outputs": [
        {
          "output_type": "stream",
          "name": "stdout",
          "text": [
            "total 12\n",
            "drwxr-xr-x 1 root root 4096 Sep 22 13:42 sample_data\n",
            "drwxr-xr-x 9 root root 4096 Sep 26 19:20 stb\n",
            "drwxr-xr-x 2 root root 4096 Sep 26 19:21 TestCurl\n"
          ]
        }
      ]
    },
    {
      "cell_type": "code",
      "source": [
        "%%shell\n",
        "cd TestCurl\n",
        "gcc -Wall TestCurl.c -o TestCurl -l curl -lm\n"
      ],
      "metadata": {
        "colab": {
          "base_uri": "https://localhost:8080/"
        },
        "id": "iCsaJkKCrYmc",
        "outputId": "f30574c5-df36-4b0a-bf68-2fb083870ac6"
      },
      "execution_count": 6,
      "outputs": [
        {
          "output_type": "execute_result",
          "data": {
            "text/plain": []
          },
          "metadata": {},
          "execution_count": 6
        }
      ]
    },
    {
      "cell_type": "code",
      "source": [
        "!ls"
      ],
      "metadata": {
        "colab": {
          "base_uri": "https://localhost:8080/"
        },
        "id": "7UMFkc6oskdA",
        "outputId": "2ce52212-b989-4951-8ebe-921963a996ff"
      },
      "execution_count": 7,
      "outputs": [
        {
          "output_type": "stream",
          "name": "stdout",
          "text": [
            "sample_data  stb  TestCurl\n"
          ]
        }
      ]
    },
    {
      "cell_type": "code",
      "source": [
        "!./TestCurl/TestCurl www.cteq.eu"
      ],
      "metadata": {
        "colab": {
          "base_uri": "https://localhost:8080/"
        },
        "id": "1ZgmBezIPGT-",
        "outputId": "ab283866-1389-49b3-b9f2-e90b1c44c3b2"
      },
      "execution_count": 10,
      "outputs": [
        {
          "output_type": "stream",
          "name": "stdout",
          "text": [
            "Size: 2379\n",
            "Data: <!DOCTYPE html PUBLIC \"-//W3C//DTD HTML 4.01 Transitional//EN\">\n",
            "<!-- saved from url=(0026)http://labviewnxt.cteq.eu/ -->\n",
            "<html><head><meta http-equiv=\"Content-Type\" content=\"text/html; charset=UTF-8\">  \n",
            "\n",
            "<title>: cteq.eu</title>\n",
            "<meta name=\"keywords\" content=\"Embedded systems, Electronics, Innovation, Python, NVIDIA GPU, Xilinx, Acceleration, Zynq, GPU\"> \n",
            "<meta name=\"description\" content=\"cteq.eu: Sea of Technology\">\n",
            "  \n",
            "<style type=\"text/css\" media=\"screen\"><!--\n",
            "body \n",
            "    {\n",
            "    color: white;\n",
            "    background-color: #FF;\n",
            "    margin: 0px\n",
            "    }\n",
            "\n",
            "#horizon        \n",
            "    {\n",
            "    color: black;\n",
            "    background-color: transparent;\n",
            "    text-align: left;\n",
            "    position: absolute;\n",
            "    top: 45%;\n",
            "    left: 0px;\n",
            "    width: 100%;\n",
            "    height: 1px;\n",
            "    overflow: visible;\n",
            "    visibility: visible;\n",
            "    display: block\n",
            "    }\n",
            "\n",
            "#content    \n",
            "    {\n",
            "    font-family: BankGothic Md BT,Verdana, Geneva, Arial, sans-serif;\n",
            "    background-color: transparent;\n",
            "    margin-left: -125px;\n",
            "    position: absolute;\n",
            "    top: -55px;\n",
            "    left: 50%;\n",
            "    width: 900px;\n",
            "    height: 30px;\n",
            "    visibility: visible\n",
            "    }\n",
            "\n",
            ".bodytext \n",
            "    {\n",
            "    font-size: 14px\n",
            "    }\n",
            "\n",
            ".headline \n",
            "    {\n",
            "    font-weight: bold;\n",
            "    font-size: 24px\n",
            "    }\n",
            "\n",
            "#footer \n",
            "    {\n",
            "    font-size: 11px;\n",
            "    font-family: BankGothic Md BT,Verdana, Geneva, Arial, sans-serif;\n",
            "    text-align: center;\n",
            "    position: absolute;\n",
            "    bottom: 0px;\n",
            "    left: 0px;\n",
            "    width: 100%;\n",
            "    height: 20px;\n",
            "    visibility: visible;\n",
            "    display: block\n",
            "    }\n",
            "\n",
            "a:link, a:visited \n",
            "    {\n",
            "    color: #06f;\n",
            "    text-decoration: none\n",
            "    }\n",
            "\n",
            "a:hover \n",
            "    {\n",
            "    color: red;\n",
            "    text-decoration: none\n",
            "    }\n",
            "\n",
            "--></style>\n",
            "</head>\n",
            "<body>\n",
            "<div id=\"horizon\">\n",
            "    <div id=\"content\">\n",
            "        <div class=\"bodytext\">\n",
            "        <!-- This text is<br> -->\n",
            "         <span class=\"headline\">Deep tech expertise, <br>Accelerating Products and Algorithms</span><br>\n",
            "\t &gt;GPU <a href=\"http://www.cteq.eu\">here</a><br> \n",
            "\t &gt;FPGA <a href=\"http://www.vhdl.eu\">here</a><br>\n",
            "\t &gt;Github <a href=\"http://www.github.com/cteqeu\">here</a><br>\n",
            "\t &gt;CEO Profile <a href=\"https://www.linkedin.com/in/vincentclaes/\">here</a><br>\n",
            "\t <br>\n",
            "\t <br>\n",
            "\t <br>\n",
            "\t <br>\n",
            "\t <br>\n",
            "\t &gt;Contact: Vincent Claes<br>\n",
            "\t &gt;Mail: [vincent]@cteq.eu\n",
            "<!-- and stays there! --></div>\n",
            "    </div>\n",
            "</div>\n",
            "<div id=\"footer\">\n",
            "    <a href=\"http://www.cteq.eu/\">cteq.eu</a>\n",
            "<!-- and stays there!<br>BE 0836.454.358<br>-->\n",
            "</div>\n",
            "    \n",
            "\n",
            "</body></html>\n"
          ]
        }
      ]
    },
    {
      "cell_type": "code",
      "source": [
        "%%writefile TestCurl/TestCurlImage.c\n",
        "\n",
        "#include <stdio.h>\n",
        "#include <stdlib.h>\n",
        "#include <string.h>\n",
        "#include <curl/curl.h>\n",
        "\n",
        "static size_t write_data(void *ptr, size_t size, size_t nmemb, void *stream)\n",
        "{\n",
        "  size_t written = fwrite(ptr, size, nmemb, (FILE *)stream);\n",
        "  return written;\n",
        "}\n",
        "\n",
        "int main(int argc, char *argv[]) {\n",
        "  CURL *curl_handle;\n",
        "  static const char *ImageFileName = \"ImageFileName.png\";\n",
        "  FILE *Imagefile;\n",
        " \n",
        "  if(argc < 2) {\n",
        "    printf(\"Usage: %s <URL>\\n\", argv[0]);\n",
        "    return 1;\n",
        "  }\n",
        " \n",
        "  curl_global_init(CURL_GLOBAL_ALL);\n",
        " \n",
        "  /* init the curl session */\n",
        "  curl_handle = curl_easy_init();\n",
        " \n",
        "  /* set URL to get here */\n",
        "  curl_easy_setopt(curl_handle, CURLOPT_URL, argv[1]);\n",
        " \n",
        "  /* Switch on full protocol/debug output while testing */\n",
        "  curl_easy_setopt(curl_handle, CURLOPT_VERBOSE, 1L);\n",
        " \n",
        "  /* disable progress meter, set to 0L to enable it */\n",
        "  curl_easy_setopt(curl_handle, CURLOPT_NOPROGRESS, 1L);\n",
        " \n",
        "  /* send all data to this function  */\n",
        "  curl_easy_setopt(curl_handle, CURLOPT_WRITEFUNCTION, write_data);\n",
        " \n",
        "  /* open the file */\n",
        "  Imagefile = fopen(ImageFileName, \"wb\");\n",
        "  if(Imagefile) {\n",
        " \n",
        "    /* write the page body to this file handle */\n",
        "    curl_easy_setopt(curl_handle, CURLOPT_WRITEDATA, Imagefile);\n",
        " \n",
        "    /* get it! */\n",
        "    curl_easy_perform(curl_handle);\n",
        " \n",
        "    /* close the header file */\n",
        "    fclose(Imagefile);\n",
        "  }\n",
        " \n",
        "  /* cleanup curl stuff */\n",
        "  curl_easy_cleanup(curl_handle);\n",
        " \n",
        "  curl_global_cleanup();\n",
        " \n",
        "  return 0;\n",
        "}\n"
      ],
      "metadata": {
        "colab": {
          "base_uri": "https://localhost:8080/"
        },
        "id": "104E3001Qism",
        "outputId": "de656874-071f-4f3a-be45-069633bfd6d1"
      },
      "execution_count": 13,
      "outputs": [
        {
          "output_type": "stream",
          "name": "stdout",
          "text": [
            "Overwriting TestCurl/TestCurlImage.c\n"
          ]
        }
      ]
    },
    {
      "cell_type": "code",
      "source": [
        "%%shell\n",
        "cd TestCurl\n",
        "gcc -Wall TestCurlImage.c -o TestCurlImage -l curl -lm"
      ],
      "metadata": {
        "colab": {
          "base_uri": "https://localhost:8080/"
        },
        "id": "mYUnebZ5SwA2",
        "outputId": "acba5efc-41bb-4e92-fc3d-236b4ef9138e"
      },
      "execution_count": 14,
      "outputs": [
        {
          "output_type": "execute_result",
          "data": {
            "text/plain": []
          },
          "metadata": {},
          "execution_count": 14
        }
      ]
    },
    {
      "cell_type": "code",
      "source": [
        "!./TestCurl/TestCurlImage \"https://www.pxl.be/Assets/website/pxl_algemeen/afbeeldingen/grotere_versie/logo_pxl_digital.png\""
      ],
      "metadata": {
        "colab": {
          "base_uri": "https://localhost:8080/"
        },
        "id": "tXvF_1AvR7Jl",
        "outputId": "641398e1-8e59-491b-b028-fe107b65dd6a"
      },
      "execution_count": 16,
      "outputs": [
        {
          "output_type": "stream",
          "name": "stdout",
          "text": [
            "*   Trying 193.190.154.243...\n",
            "* TCP_NODELAY set\n",
            "* Connected to www.pxl.be (193.190.154.243) port 443 (#0)\n",
            "* ALPN, offering http/1.1\n",
            "* successfully set certificate verify locations:\n",
            "*   CAfile: /etc/ssl/certs/ca-certificates.crt\n",
            "  CApath: /etc/ssl/certs\n",
            "* SSL connection using TLSv1.2 / DHE-RSA-AES128-GCM-SHA256\n",
            "* ALPN, server did not agree to a protocol\n",
            "* Server certificate:\n",
            "*  subject: C=BE; ST=Limburg; O=Hogeschool PXL; CN=*.pxl.be\n",
            "*  start date: May  2 00:00:00 2022 GMT\n",
            "*  expire date: May  2 23:59:59 2023 GMT\n",
            "*  subjectAltName: host \"www.pxl.be\" matched cert's \"*.pxl.be\"\n",
            "*  issuer: C=NL; O=GEANT Vereniging; CN=GEANT OV RSA CA 4\n",
            "*  SSL certificate verify ok.\n",
            "> GET /Assets/website/pxl_algemeen/afbeeldingen/grotere_versie/logo_pxl_digital.png HTTP/1.1\n",
            "Host: www.pxl.be\n",
            "Accept: */*\n",
            "\n",
            "< HTTP/1.1 200 OK\n",
            "< Content-Type: image/png\n",
            "< Last-Modified: Wed, 02 Feb 2022 13:45:30 GMT\n",
            "< Accept-Ranges: bytes\n",
            "< ETag: \"4ec49c243b18d81:0\"\n",
            "< Set-Cookie: PXLSite_guid=c7f5b32a-2465-4b57-947c-0f040cff22c2; expires=Tue, 26-Sep-2023 19:35:29 GMT; path=/; secure; HttpOnly\n",
            "< Set-Cookie: .ASPXANONYMOUS=-egwcGpQv5MkXfDcvzwfdcitEOfdxjB10aMfIxgmmXWNtZI1gKKQ3IcXR1eM2_y4yX24gxLRJ17iCMgwfHUSm2td_S4IDiLuO8YNXsyN3jEsiMiwjmj0r-kAilKWwhCGfl0C8g2; expires=Mon, 05-Dec-2022 06:15:29 GMT; path=/; HttpOnly\n",
            "< Date: Mon, 26 Sep 2022 19:35:29 GMT\n",
            "< Content-Length: 68526\n",
            "< Set-Cookie: TS01f83e5f=01f9003bc93330f976151cb08b1ba4c87e4bd2a2e6a3768fc927dad99d63481cb28bed5e424f485037b32d05970852b7e068ab7c4a4512a0f07234a51858d7c7eaa901abc4ef30ece6c0d9fae2a3bb499add651532; Path=/; Domain=.www.pxl.be\n",
            "< \n",
            "* Connection #0 to host www.pxl.be left intact\n"
          ]
        }
      ]
    }
  ]
}