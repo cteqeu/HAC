{
  "nbformat": 4,
  "nbformat_minor": 0,
  "metadata": {
    "colab": {
      "provenance": []
    },
    "kernelspec": {
      "name": "python3",
      "display_name": "Python 3"
    },
    "language_info": {
      "name": "python"
    },
    "accelerator": "GPU",
    "gpuClass": "standard"
  },
  "cells": [
    {
      "cell_type": "code",
      "execution_count": 1,
      "metadata": {
        "colab": {
          "base_uri": "https://localhost:8080/"
        },
        "id": "-OOIeVYcyzPV",
        "outputId": "cbfac79b-9874-4c91-aec0-3124c2687c75"
      },
      "outputs": [
        {
          "output_type": "stream",
          "name": "stdout",
          "text": [
            "Cloning into 'stb'...\n",
            "remote: Enumerating objects: 7851, done.\u001b[K\n",
            "remote: Counting objects: 100% (580/580), done.\u001b[K\n",
            "remote: Compressing objects: 100% (215/215), done.\u001b[K\n",
            "remote: Total 7851 (delta 376), reused 547 (delta 365), pack-reused 7271\u001b[K\n",
            "Receiving objects: 100% (7851/7851), 5.45 MiB | 4.67 MiB/s, done.\n",
            "Resolving deltas: 100% (5221/5221), done.\n"
          ]
        }
      ],
      "source": [
        "!git clone https://github.com/nothings/stb.git"
      ]
    },
    {
      "cell_type": "code",
      "source": [
        "!ls\n",
        "!mkdir Cuda_Image\n",
        "!mv /content/stb/stb_image*.* Cuda_Image"
      ],
      "metadata": {
        "colab": {
          "base_uri": "https://localhost:8080/"
        },
        "id": "cgS5UpC7zaW0",
        "outputId": "84805771-574d-4f61-b969-82a8d68b2ef7"
      },
      "execution_count": 2,
      "outputs": [
        {
          "output_type": "stream",
          "name": "stdout",
          "text": [
            "sample_data  stb\n"
          ]
        }
      ]
    },
    {
      "cell_type": "code",
      "source": [
        "!wget -O skyline.jpg https://images-prod-uitdatabank.imgix.net/329eb7c3-df7c-413d-9196-955fd13526af.jpeg\n",
        "%cd Cuda_Image\n",
        "!ls\n",
        "# c/p stb_image.h  stb_image_resize.h  stb_image_write.h to your project directory"
      ],
      "metadata": {
        "colab": {
          "base_uri": "https://localhost:8080/"
        },
        "id": "AR1F2ZrHzaOd",
        "outputId": "9c7277ef-883d-40a0-ce89-304ea31cb719"
      },
      "execution_count": 3,
      "outputs": [
        {
          "output_type": "stream",
          "name": "stdout",
          "text": [
            "--2022-09-26 19:04:55--  https://images-prod-uitdatabank.imgix.net/329eb7c3-df7c-413d-9196-955fd13526af.jpeg\n",
            "Resolving images-prod-uitdatabank.imgix.net (images-prod-uitdatabank.imgix.net)... 146.75.38.208, 2a04:4e42:79::720\n",
            "Connecting to images-prod-uitdatabank.imgix.net (images-prod-uitdatabank.imgix.net)|146.75.38.208|:443... connected.\n",
            "HTTP request sent, awaiting response... 200 OK\n",
            "Length: 2427278 (2.3M) [image/jpeg]\n",
            "Saving to: ‘skyline.jpg’\n",
            "\n",
            "skyline.jpg         100%[===================>]   2.31M  --.-KB/s    in 0.08s   \n",
            "\n",
            "2022-09-26 19:04:55 (30.9 MB/s) - ‘skyline.jpg’ saved [2427278/2427278]\n",
            "\n",
            "/content/Cuda_Image\n",
            "stb_image.h  stb_image_resize.h  stb_image_write.h\n"
          ]
        }
      ]
    },
    {
      "cell_type": "code",
      "source": [
        "%%file image_read.c\n",
        "\n",
        "#include <stdio.h>\n",
        "#include <stdlib.h>\n",
        "#define STB_IMAGE_IMPLEMENTATION\n",
        "#include \"stb_image.h\"\n",
        "#define STB_IMAGE_WRITE_IMPLEMENTATION\n",
        "#include \"stb_image_write.h\"\n",
        "\n",
        "int main(void)\n",
        "{\n",
        "    int width, height, channels;\n",
        "    unsigned char *img = stbi_load(\"skyline.jpg\", &width, &height, &channels, 0);\n",
        "    if(img == NULL) {\n",
        "          printf(\"Error in loading the image\\n\");\n",
        "          exit(1);\n",
        "     }\n",
        "    printf(\"Loaded image with a width of %dpx, a height of %dpx and %d channels\\n\", width, height, channels);\n",
        "    return 0;\n",
        "}"
      ],
      "metadata": {
        "colab": {
          "base_uri": "https://localhost:8080/"
        },
        "id": "mgrRm_JIzqVd",
        "outputId": "46297cec-d0fd-47c7-9fba-bfb764367bfe"
      },
      "execution_count": 4,
      "outputs": [
        {
          "output_type": "stream",
          "name": "stdout",
          "text": [
            "Writing image_read.c\n"
          ]
        }
      ]
    },
    {
      "cell_type": "code",
      "source": [
        "!gcc -o -Wall -o image_read image_read.c -lm"
      ],
      "metadata": {
        "id": "Il5l7wnO0_DK"
      },
      "execution_count": 5,
      "outputs": []
    },
    {
      "cell_type": "code",
      "source": [
        "!./image_read"
      ],
      "metadata": {
        "colab": {
          "base_uri": "https://localhost:8080/"
        },
        "id": "PJWJIVk71egG",
        "outputId": "18835f44-2df7-4e18-9920-7adba2505704"
      },
      "execution_count": 6,
      "outputs": [
        {
          "output_type": "stream",
          "name": "stdout",
          "text": [
            "Error in loading the image\n"
          ]
        }
      ]
    },
    {
      "cell_type": "code",
      "source": [
        "%%file image_read_write_jpg2png.c\n",
        "\n",
        "#include <stdio.h>\n",
        "#include <stdlib.h>\n",
        "#define STB_IMAGE_IMPLEMENTATION\n",
        "#include \"stb_image.h\"\n",
        "#define STB_IMAGE_WRITE_IMPLEMENTATION\n",
        "#include \"stb_image_write.h\"\n",
        "\n",
        "int main(void)\n",
        "{\n",
        "    int width, height, channels;\n",
        "    unsigned char *img = stbi_load(\"../skyline.jpg\", &width, &height, &channels, 0);\n",
        "    if(img == NULL) {\n",
        "          printf(\"Error in loading the image\\n\");\n",
        "          exit(1);\n",
        "     }\n",
        "    printf(\"Loaded image with a width of %dpx, a height of %dpx and %d channels\\n\", width, height, channels);\n",
        "    stbi_write_png(\"skyline.png\",width,height,channels,img,width*channels);\n",
        "    stbi_image_free(img);\n",
        "    return 0;\n",
        "}"
      ],
      "metadata": {
        "colab": {
          "base_uri": "https://localhost:8080/"
        },
        "id": "yH8Yt_tt16LX",
        "outputId": "dc58a90a-bc50-4a01-cc89-ec72d0b4d956"
      },
      "execution_count": 7,
      "outputs": [
        {
          "output_type": "stream",
          "name": "stdout",
          "text": [
            "Writing image_read_write_jpg2png.c\n"
          ]
        }
      ]
    },
    {
      "cell_type": "code",
      "source": [
        "!gcc -o -Wall -o image_read_write_jpg2png image_read_write_jpg2png.c -lm\n",
        "!./image_read_write_jpg2png"
      ],
      "metadata": {
        "colab": {
          "base_uri": "https://localhost:8080/"
        },
        "id": "QfsTft5L16IT",
        "outputId": "7d432ab2-3a44-42c6-bcae-60b89f2b0d91"
      },
      "execution_count": 8,
      "outputs": [
        {
          "output_type": "stream",
          "name": "stdout",
          "text": [
            "Loaded image with a width of 3648px, a height of 2736px and 3 channels\n"
          ]
        }
      ]
    },
    {
      "cell_type": "code",
      "source": [
        "%%file image_jpg_color2gray.c\n",
        "\n",
        "#include <stdio.h>\n",
        "#include <stdlib.h>\n",
        "#define STB_IMAGE_IMPLEMENTATION\n",
        "#include \"stb_image.h\"\n",
        "#define STB_IMAGE_WRITE_IMPLEMENTATION\n",
        "#include \"stb_image_write.h\"\n",
        "\n",
        "int main(void)\n",
        "{\n",
        "    int width, height, channels;\n",
        "    unsigned char *img = stbi_load(\"../skyline.jpg\", &width, &height, &channels, 0);\n",
        "    if(img == NULL) {\n",
        "          printf(\"Error in loading the image\\n\");\n",
        "          exit(1);\n",
        "     }\n",
        "    printf(\"Loaded image with a width of %dpx, a height of %dpx and %d channels\\n\", width, height, channels);\n",
        "    \n",
        "    // Convert the input image to gray\n",
        "    size_t img_size = width * height * channels;\n",
        "    int gray_channels = channels == 4 ? 2 : 1;\n",
        "    size_t gray_img_size = width * height * gray_channels;\n",
        "\n",
        "    unsigned char *gray_img = malloc(gray_img_size);\n",
        "    if(gray_img == NULL) {\n",
        "        printf(\"Unable to allocate memory for the gray image.\\n\");\n",
        "        exit(1);\n",
        "    }\n",
        "\n",
        "    for(unsigned char *p = img, *pg = gray_img; p != img + img_size; p += channels, pg += gray_channels) {\n",
        "        *pg = (uint8_t)((*p + *(p + 1) + *(p + 2))/3.0);\n",
        "        if(channels == 4) {\n",
        "            *(pg + 1) = *(p + 3);\n",
        "        }\n",
        "    }\n",
        "    stbi_write_jpg(\"skyline_gray.jpg\", width, height, gray_channels, gray_img, 100);\n",
        "    stbi_image_free(img);\n",
        "    return 0;\n",
        "}"
      ],
      "metadata": {
        "colab": {
          "base_uri": "https://localhost:8080/"
        },
        "id": "Fo0j4lL63uWw",
        "outputId": "921d6855-251c-44f8-a5dd-6b599de5834a"
      },
      "execution_count": 9,
      "outputs": [
        {
          "output_type": "stream",
          "name": "stdout",
          "text": [
            "Writing image_jpg_color2gray.c\n"
          ]
        }
      ]
    },
    {
      "cell_type": "code",
      "source": [
        "!gcc -o -Wall -o image_jpg_color2gray image_jpg_color2gray.c -lm\n",
        "!./image_jpg_color2gray"
      ],
      "metadata": {
        "colab": {
          "base_uri": "https://localhost:8080/"
        },
        "id": "Y-BTQM6M4DRK",
        "outputId": "9d57cc4d-83d9-4ca2-d749-a9d550d9703e"
      },
      "execution_count": 10,
      "outputs": [
        {
          "output_type": "stream",
          "name": "stdout",
          "text": [
            "Loaded image with a width of 3648px, a height of 2736px and 3 channels\n"
          ]
        }
      ]
    },
    {
      "cell_type": "code",
      "source": [
        "%%timeit\n",
        "!./image_jpg_color2gray"
      ],
      "metadata": {
        "colab": {
          "base_uri": "https://localhost:8080/"
        },
        "id": "au3Kt1qj5kyI",
        "outputId": "0848ffc6-ffe2-4460-c1e2-53a4a73ab4eb"
      },
      "execution_count": 11,
      "outputs": [
        {
          "output_type": "stream",
          "name": "stdout",
          "text": [
            "Loaded image with a width of 3648px, a height of 2736px and 3 channels\n",
            "Loaded image with a width of 3648px, a height of 2736px and 3 channels\n",
            "Loaded image with a width of 3648px, a height of 2736px and 3 channels\n",
            "Loaded image with a width of 3648px, a height of 2736px and 3 channels\n",
            "Loaded image with a width of 3648px, a height of 2736px and 3 channels\n",
            "Loaded image with a width of 3648px, a height of 2736px and 3 channels\n",
            "Loaded image with a width of 3648px, a height of 2736px and 3 channels\n",
            "Loaded image with a width of 3648px, a height of 2736px and 3 channels\n",
            "1.62 s ± 2.35 ms per loop (mean ± std. dev. of 7 runs, 1 loop each)\n"
          ]
        }
      ]
    },
    {
      "cell_type": "markdown",
      "source": [],
      "metadata": {
        "id": "tWJFozSz1eXi"
      }
    }
  ]
}